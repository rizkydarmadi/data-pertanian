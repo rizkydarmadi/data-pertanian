{
 "cells": [
  {
   "cell_type": "code",
   "execution_count": 11,
   "metadata": {},
   "outputs": [
    {
     "data": {
      "text/html": [
       "<div>\n",
       "<style scoped>\n",
       "    .dataframe tbody tr th:only-of-type {\n",
       "        vertical-align: middle;\n",
       "    }\n",
       "\n",
       "    .dataframe tbody tr th {\n",
       "        vertical-align: top;\n",
       "    }\n",
       "\n",
       "    .dataframe thead th {\n",
       "        text-align: right;\n",
       "    }\n",
       "</style>\n",
       "<table border=\"1\" class=\"dataframe\">\n",
       "  <thead>\n",
       "    <tr style=\"text-align: right;\">\n",
       "      <th></th>\n",
       "      <th>x</th>\n",
       "      <th>y</th>\n",
       "    </tr>\n",
       "  </thead>\n",
       "  <tbody>\n",
       "    <tr>\n",
       "      <th>0</th>\n",
       "      <td>0.269231</td>\n",
       "      <td>313550</td>\n",
       "    </tr>\n",
       "    <tr>\n",
       "      <th>1</th>\n",
       "      <td>0.384615</td>\n",
       "      <td>183200</td>\n",
       "    </tr>\n",
       "    <tr>\n",
       "      <th>2</th>\n",
       "      <td>0.634615</td>\n",
       "      <td>310282</td>\n",
       "    </tr>\n",
       "    <tr>\n",
       "      <th>3</th>\n",
       "      <td>0.365385</td>\n",
       "      <td>864730</td>\n",
       "    </tr>\n",
       "    <tr>\n",
       "      <th>4</th>\n",
       "      <td>0.403846</td>\n",
       "      <td>897672</td>\n",
       "    </tr>\n",
       "    <tr>\n",
       "      <th>5</th>\n",
       "      <td>0.423077</td>\n",
       "      <td>466375</td>\n",
       "    </tr>\n",
       "    <tr>\n",
       "      <th>6</th>\n",
       "      <td>0.211538</td>\n",
       "      <td>461267</td>\n",
       "    </tr>\n",
       "    <tr>\n",
       "      <th>7</th>\n",
       "      <td>0.250000</td>\n",
       "      <td>481496</td>\n",
       "    </tr>\n",
       "    <tr>\n",
       "      <th>8</th>\n",
       "      <td>0.000000</td>\n",
       "      <td>455570</td>\n",
       "    </tr>\n",
       "    <tr>\n",
       "      <th>9</th>\n",
       "      <td>0.519231</td>\n",
       "      <td>483933</td>\n",
       "    </tr>\n",
       "    <tr>\n",
       "      <th>10</th>\n",
       "      <td>0.711538</td>\n",
       "      <td>489449</td>\n",
       "    </tr>\n",
       "    <tr>\n",
       "      <th>11</th>\n",
       "      <td>0.326923</td>\n",
       "      <td>458307</td>\n",
       "    </tr>\n",
       "    <tr>\n",
       "      <th>12</th>\n",
       "      <td>0.538462</td>\n",
       "      <td>455615</td>\n",
       "    </tr>\n",
       "    <tr>\n",
       "      <th>13</th>\n",
       "      <td>0.653846</td>\n",
       "      <td>450859</td>\n",
       "    </tr>\n",
       "    <tr>\n",
       "      <th>14</th>\n",
       "      <td>0.634615</td>\n",
       "      <td>450727</td>\n",
       "    </tr>\n",
       "    <tr>\n",
       "      <th>15</th>\n",
       "      <td>0.788462</td>\n",
       "      <td>395524</td>\n",
       "    </tr>\n",
       "    <tr>\n",
       "      <th>16</th>\n",
       "      <td>1.000000</td>\n",
       "      <td>388071</td>\n",
       "    </tr>\n",
       "    <tr>\n",
       "      <th>17</th>\n",
       "      <td>0.615385</td>\n",
       "      <td>381188</td>\n",
       "    </tr>\n",
       "    <tr>\n",
       "      <th>18</th>\n",
       "      <td>0.634615</td>\n",
       "      <td>370202</td>\n",
       "    </tr>\n",
       "    <tr>\n",
       "      <th>19</th>\n",
       "      <td>0.942308</td>\n",
       "      <td>352700</td>\n",
       "    </tr>\n",
       "    <tr>\n",
       "      <th>20</th>\n",
       "      <td>0.903846</td>\n",
       "      <td>359160</td>\n",
       "    </tr>\n",
       "    <tr>\n",
       "      <th>21</th>\n",
       "      <td>0.538462</td>\n",
       "      <td>383687</td>\n",
       "    </tr>\n",
       "  </tbody>\n",
       "</table>\n",
       "</div>"
      ],
      "text/plain": [
       "           x       y\n",
       "0   0.269231  313550\n",
       "1   0.384615  183200\n",
       "2   0.634615  310282\n",
       "3   0.365385  864730\n",
       "4   0.403846  897672\n",
       "5   0.423077  466375\n",
       "6   0.211538  461267\n",
       "7   0.250000  481496\n",
       "8   0.000000  455570\n",
       "9   0.519231  483933\n",
       "10  0.711538  489449\n",
       "11  0.326923  458307\n",
       "12  0.538462  455615\n",
       "13  0.653846  450859\n",
       "14  0.634615  450727\n",
       "15  0.788462  395524\n",
       "16  1.000000  388071\n",
       "17  0.615385  381188\n",
       "18  0.634615  370202\n",
       "19  0.942308  352700\n",
       "20  0.903846  359160\n",
       "21  0.538462  383687"
      ]
     },
     "execution_count": 11,
     "metadata": {},
     "output_type": "execute_result"
    }
   ],
   "source": [
    "import pandas as pd\n",
    "\n",
    "mean_temperature = [25.85,25.91,26.04,25.90,25.92,25.93,25.82,25.84,25.71,25.98,26.08,25.88,25.99,26.05,26.04,26.12,26.23,26.03,26.04,26.20,26.18,25.99]\n",
    "\n",
    "df1 = pd.DataFrame({\n",
    "    'value': mean_temperature\n",
    "})\n",
    "\n",
    "from sklearn import preprocessing\n",
    "scaler = preprocessing.MinMaxScaler()\n",
    "x_scaled = scaler.fit_transform(df1)\n",
    "x = x_scaled.flatten()\n",
    "x\n",
    "\n",
    "\n",
    "kacang_tanah = pd.read_csv('dataset/kacang_tanah.csv')\n",
    "\n",
    "df3 = pd.DataFrame({\n",
    "    'x':x,\n",
    "    'y':kacang_tanah['total']\n",
    "})\n",
    "df3 = df3.head(21)\n",
    "\n",
    "kacang_panjang = pd.read_csv('dataset/kacang_panjang.csv')\n",
    "\n",
    "df4 = pd.DataFrame({\n",
    "    'x':x,\n",
    "    'y':kacang_panjang['total']\n",
    "})\n",
    "df4\n"
   ]
  },
  {
   "cell_type": "code",
   "execution_count": 12,
   "metadata": {},
   "outputs": [
    {
     "name": "stderr",
     "output_type": "stream",
     "text": [
      "/home/rizkyd/rizky/data_pertanian/notebook/env/lib/python3.10/site-packages/sklearn/utils/validation.py:1111: DataConversionWarning: A column-vector y was passed when a 1d array was expected. Please change the shape of y to (n_samples, ), for example using ravel().\n",
      "  y = column_or_1d(y, warn=True)\n"
     ]
    },
    {
     "data": {
      "text/plain": [
       "array([-0.59258068])"
      ]
     },
     "execution_count": 12,
     "metadata": {},
     "output_type": "execute_result"
    }
   ],
   "source": [
    "from sklearn import feature_selection\n",
    "x = df3['x'].values.reshape(-1,1)\n",
    "y = df3['y'].values.reshape(-1,1)\n",
    "\n",
    "feature_selection.r_regression(x,y)"
   ]
  },
  {
   "cell_type": "code",
   "execution_count": 13,
   "metadata": {},
   "outputs": [
    {
     "data": {
      "image/png": "[encoded data removed]",
      "text/plain": [
       "<Figure size 432x288 with 1 Axes>"
      ]
     },
     "metadata": {
      "needs_background": "light"
     },
     "output_type": "display_data"
    }
   ],
   "source": [
    "import matplotlib.pyplot as plt\n",
    "plt.scatter(x=df4['x'],y=df4['y'])\n",
    "plt.show()"
   ]
  },
  {
   "cell_type": "code",
   "execution_count": 14,
   "metadata": {},
   "outputs": [
    {
     "data": {
      "image/png": "[encoded data removed]",
      "text/plain": [
       "<Figure size 432x288 with 1 Axes>"
      ]
     },
     "metadata": {
      "needs_background": "light"
     },
     "output_type": "display_data"
    }
   ],
   "source": [
    "plt.scatter(x=df3['x'],y=df3['y'])\n",
    "plt.show()"
   ]
  },
  {
   "cell_type": "code",
   "execution_count": 15,
   "metadata": {},
   "outputs": [
    {
     "name": "stderr",
     "output_type": "stream",
     "text": [
      "/home/rizkyd/rizky/data_pertanian/notebook/env/lib/python3.10/site-packages/sklearn/utils/validation.py:1111: DataConversionWarning: A column-vector y was passed when a 1d array was expected. Please change the shape of y to (n_samples, ), for example using ravel().\n",
      "  y = column_or_1d(y, warn=True)\n"
     ]
    },
    {
     "data": {
      "text/plain": [
       "array([-0.59805328])"
      ]
     },
     "execution_count": 15,
     "metadata": {},
     "output_type": "execute_result"
    }
   ],
   "source": [
    "kacang_panjang_riau = pd.read_csv('dataset/mentimun.csv')\n",
    "kacang_panjang_riau\n",
    "\n",
    "from sklearn import preprocessing\n",
    "scaler = preprocessing.MinMaxScaler()\n",
    "x_scaled = scaler.fit_transform(df1)\n",
    "x = x_scaled.flatten()\n",
    "\n",
    "df5 = pd.DataFrame({\n",
    "    'x':x[3:15],\n",
    "    'y':[763370,919012,1235569,1255450,1425116,1303299,1291352,842799,777336,748076,838915,708438]\n",
    "})\n",
    "\n",
    "\n",
    "from sklearn import feature_selection\n",
    "x = df5['x'].values.reshape(-1,1)\n",
    "y = df5['y'].values.reshape(-1,1)\n",
    "\n",
    "feature_selection.r_regression(x,y)\n"
   ]
  },
  {
   "cell_type": "code",
   "execution_count": 16,
   "metadata": {},
   "outputs": [
    {
     "data": {
      "image/png": "[encoded data removed]",
      "text/plain": [
       "<Figure size 432x288 with 1 Axes>"
      ]
     },
     "metadata": {
      "needs_background": "light"
     },
     "output_type": "display_data"
    }
   ],
   "source": [
    "plt.scatter(df5['x'],df5['y'])\n",
    "plt.show()"
   ]
  },
  {
   "cell_type": "code",
   "execution_count": 17,
   "metadata": {},
   "outputs": [
    {
     "data": {
      "image/png": "[encoded data removed]",
      "text/plain": [
       "<Figure size 432x288 with 1 Axes>"
      ]
     },
     "metadata": {
      "needs_background": "light"
     },
     "output_type": "display_data"
    },
    {
     "name": "stderr",
     "output_type": "stream",
     "text": [
      "/home/rizkyd/rizky/data_pertanian/notebook/env/lib/python3.10/site-packages/sklearn/utils/validation.py:1111: DataConversionWarning: A column-vector y was passed when a 1d array was expected. Please change the shape of y to (n_samples, ), for example using ravel().\n",
      "  y = column_or_1d(y, warn=True)\n"
     ]
    },
    {
     "data": {
      "text/plain": [
       "array([0.65111193])"
      ]
     },
     "execution_count": 17,
     "metadata": {},
     "output_type": "execute_result"
    }
   ],
   "source": [
    "from sklearn import preprocessing\n",
    "scaler = preprocessing.MinMaxScaler()\n",
    "x_scaled = scaler.fit_transform(df1)\n",
    "x = x_scaled.flatten()\n",
    "\n",
    "df6 = pd.DataFrame({\n",
    "    'y':x,\n",
    "    'x':[i for i in range(22)]\n",
    "})\n",
    "plt.scatter(df6['x'],df6['y'])\n",
    "plt.show()\n",
    "\n",
    "from sklearn import feature_selection\n",
    "x = df6['x'].values.reshape(-1,1)\n",
    "y = df6['y'].values.reshape(-1,1)\n",
    "\n",
    "feature_selection.r_regression(x,y)"
   ]
  },
  {
   "cell_type": "code",
   "execution_count": 18,
   "metadata": {},
   "outputs": [
    {
     "data": {
      "image/png": "[encoded data removed]",
      "text/plain": [
       "<Figure size 432x288 with 1 Axes>"
      ]
     },
     "metadata": {
      "needs_background": "light"
     },
     "output_type": "display_data"
    }
   ],
   "source": [
    "import json\n",
    "file = open('dataset/mean_temperature.json')\n",
    "data = json.load(file)\n",
    "year = []\n",
    "mean_temperature = []\n",
    "for key,value in data.items():\n",
    "    year.append(int(key))\n",
    "    mean_temperature.append(float(value))\n",
    "\n",
    "mean_temp = pd.DataFrame({\n",
    "    'year':year,\n",
    "    'mean_temp':mean_temperature\n",
    "})\n",
    "mean_temp\n",
    "plt.scatter(x=mean_temp['year'],y=mean_temp['mean_temp'])\n",
    "plt.show()\n"
   ]
  },
  {
   "cell_type": "code",
   "execution_count": 19,
   "metadata": {},
   "outputs": [],
   "source": [
    "import json\n",
    "file = open('dataset/mean_temperature.json')\n",
    "data = json.load(file)\n",
    "year = []\n",
    "mean_temperature = []\n",
    "for key,value in data.items():\n",
    "    year.append(int(key))\n",
    "    mean_temperature.append(float(value))\n",
    "\n",
    "mean_temp = pd.DataFrame({\n",
    "    'year':year,\n",
    "    'mean_temp':mean_temperature\n",
    "})\n",
    "scaler = preprocessing.MinMaxScaler()\n",
    "x_scaled = scaler.fit_transform(mean_temp['mean_temp'].values.reshape(-1,1))\n",
    "x = x_scaled.flatten()\n",
    "mean_temp = pd.DataFrame({\n",
    "    'year':year,\n",
    "    'mean_temp':x\n",
    "})\n",
    "mean_temp.to_csv('dataset/mean_temp_scaling.csv')"
   ]
  }
 ],
 "metadata": {
  "kernelspec": {
   "display_name": "Python 3.10.4 ('env': venv)",
   "language": "python",
   "name": "python3"
  },
  "language_info": {
   "codemirror_mode": {
    "name": "ipython",
    "version": 3
   },
   "file_extension": ".py",
   "mimetype": "text/x-python",
   "name": "python",
   "nbconvert_exporter": "python",
   "pygments_lexer": "ipython3",
   "version": "3.10.4"
  },
  "orig_nbformat": 4,
  "vscode": {
   "interpreter": {
    "hash": "7f979bb39a71546a5bede00fe214fe3df8c138be8989b84e07a164018f8b0be2"
   }
  }
 },
 "nbformat": 4,
 "nbformat_minor": 2
}
